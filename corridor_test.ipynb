{
 "cells": [
  {
   "cell_type": "code",
   "execution_count": 1,
   "metadata": {
    "collapsed": true
   },
   "outputs": [],
   "source": [
    "import h5py\n",
    "import torch\n",
    "import torch.nn as nn\n",
    "from torch.legacy.nn import Reshape\n",
    "from torch.autograd import Variable\n",
    "import torch.optim as optim\n",
    "import torchvision.models as models\n",
    "import torchvision.transforms as transforms\n",
    "import torch.utils.data as utils\n",
    "import numpy as np\n",
    "import matplotlib.pyplot as plt\n",
    "from scipy.misc import imresize, imread, imshow\n",
    "import time\n",
    "from math import log,sqrt\n",
    "import torch.nn.functional as F"
   ]
  },
  {
   "cell_type": "code",
   "execution_count": 2,
   "metadata": {},
   "outputs": [
    {
     "data": {
      "text/plain": [
       "0"
      ]
     },
     "execution_count": 2,
     "metadata": {},
     "output_type": "execute_result"
    }
   ],
   "source": [
    "torch.cuda.current_device()"
   ]
  },
  {
   "cell_type": "code",
   "execution_count": 3,
   "metadata": {
    "collapsed": true
   },
   "outputs": [],
   "source": [
    "def InitializeWeights(mod):\n",
    "    for m in mod.modules():\n",
    "        if isinstance(m,nn.Conv2d):\n",
    "            n = m.kernel_size[0] * m.kernel_size[1] * m.out_channels\n",
    "            #print m.weight.size(), m.out_channels, m.in_channels\n",
    "            m.weight.data.normal_(0,sqrt(2./n))\n",
    "        elif isinstance(m, nn.BatchNorm2d):\n",
    "            m.weight.data.fill_(1)\n",
    "            m.bias.data.zero_()\n",
    "    return mod"
   ]
  },
  {
   "cell_type": "code",
   "execution_count": 4,
   "metadata": {},
   "outputs": [
    {
     "name": "stdout",
     "output_type": "stream",
     "text": [
      "Corridor (\n",
      "  (conv1): Conv2d(3, 6, kernel_size=(7, 7), stride=(2, 2))\n",
      "  (conv2): Conv2d(6, 16, kernel_size=(5, 5), stride=(2, 2))\n",
      "  (conv3): Conv2d(16, 20, kernel_size=(3, 3), stride=(1, 1))\n",
      "  (fc1): Linear (640 -> 120)\n",
      "  (fc2): Linear (120 -> 84)\n",
      "  (fc3): Linear (84 -> 10)\n",
      "  (fc4): Linear (10 -> 1)\n",
      ")\n"
     ]
    }
   ],
   "source": [
    "class Corridor(nn.Module):\n",
    "\n",
    "    def __init__(self):\n",
    "        super(Corridor, self).__init__()\n",
    "        # 1 input image channel, 6 output channels, 5x5 square convolution\n",
    "        # kernel\n",
    "        self.conv1 = InitializeWeights(nn.Conv2d(3, 6, 7, 2))\n",
    "        self.conv2 = InitializeWeights(nn.Conv2d(6, 16, 5, 2))\n",
    "        self.conv3 = InitializeWeights(nn.Conv2d(16, 20, 3, 1))\n",
    "        # an affine operation: y = Wx + b\n",
    "        self.fc1 = nn.Linear(20 * 4 * 8, 120)\n",
    "        self.fc2 = nn.Linear(120, 84)\n",
    "        self.fc3 = nn.Linear(84, 10)\n",
    "        self.fc4 = nn.Linear(10, 1)\n",
    "\n",
    "    def forward(self, x):\n",
    "        # Max pooling over a (2, 2) window\n",
    "        x = F.max_pool2d(F.relu(self.conv1(x)), (2, 2))\n",
    "        # If the size is a square you can only specify a single number\n",
    "        x = F.max_pool2d(F.relu(self.conv2(x)), 2)\n",
    "        x = F.max_pool2d(F.relu(self.conv3(x)), 2)\n",
    "        x = x.view(-1, self.num_flat_features(x))\n",
    "        x = F.relu(self.fc1(x))\n",
    "        x = F.relu(self.fc2(x))\n",
    "        x = F.relu(self.fc3(x))\n",
    "        x = self.fc4(x)\n",
    "        return x\n",
    "\n",
    "    def num_flat_features(self, x):\n",
    "        size = x.size()[1:]  # all dimensions except the batch dimension\n",
    "        num_features = 1\n",
    "        for s in size:\n",
    "            num_features *= s\n",
    "        return num_features\n",
    "\n",
    "\n",
    "net = Corridor()\n",
    "print(net)"
   ]
  },
  {
   "cell_type": "code",
   "execution_count": 5,
   "metadata": {},
   "outputs": [
    {
     "name": "stdout",
     "output_type": "stream",
     "text": [
      "14\n",
      "torch.Size([6, 3, 7, 7])\n"
     ]
    }
   ],
   "source": [
    "params = list(net.parameters())\n",
    "print(len(params))\n",
    "print(params[0].size())  # conv1's .weight"
   ]
  },
  {
   "cell_type": "code",
   "execution_count": 6,
   "metadata": {},
   "outputs": [
    {
     "name": "stdout",
     "output_type": "stream",
     "text": [
      "Number of layers --->  14\n",
      "Total number of parameters --->  94149\n"
     ]
    }
   ],
   "source": [
    "sum1 = 0\n",
    "        \n",
    "print(\"Number of layers ---> \",len(list(net.parameters())))\n",
    "for params in net.parameters():\n",
    "    if params.requires_grad == True:\n",
    "        sum1 += params.numel()\n",
    "    \n",
    "print(\"Total number of parameters ---> \",sum1)"
   ]
  },
  {
   "cell_type": "code",
   "execution_count": 7,
   "metadata": {
    "scrolled": true
   },
   "outputs": [
    {
     "name": "stdout",
     "output_type": "stream",
     "text": [
      "Variable containing:\n",
      " 0.1421\n",
      " 0.1653\n",
      " 0.1395\n",
      " 0.1500\n",
      " 0.1433\n",
      "[torch.FloatTensor of size 5x1]\n",
      "\n"
     ]
    }
   ],
   "source": [
    "input = Variable(torch.randn(5, 3, 180, 320))\n",
    "out = net(input)\n",
    "print(out)"
   ]
  },
  {
   "cell_type": "code",
   "execution_count": null,
   "metadata": {
    "collapsed": true
   },
   "outputs": [],
   "source": [
    "net = net.cuda()"
   ]
  },
  {
   "cell_type": "code",
   "execution_count": 8,
   "metadata": {
    "collapsed": true
   },
   "outputs": [],
   "source": [
    "file = h5py.File('./DATASET/CODE/NewTrainData.h5')\n",
    "xtrainT = torch.from_numpy(np.array(file['xtrain'],dtype=np.float32)).float()\n",
    "ytrainT = torch.from_numpy(np.array(file['ytrain'],dtype=np.float32)).float()\n",
    "#xtrain = np.array(file['xtrain'],dtype=np.float32)\n",
    "#ytrain = np.array(file['ytrain'],dtype=np.float32)"
   ]
  },
  {
   "cell_type": "code",
   "execution_count": 13,
   "metadata": {},
   "outputs": [
    {
     "name": "stdout",
     "output_type": "stream",
     "text": [
      "torch.Size([11884, 3, 180, 320]) torch.Size([11884, 2])\n"
     ]
    }
   ],
   "source": [
    "print(xtrainT.size(), ytrainT.size())"
   ]
  },
  {
   "cell_type": "code",
   "execution_count": 9,
   "metadata": {
    "collapsed": true
   },
   "outputs": [],
   "source": [
    "file = h5py.File('./DATASET/CODE/NewTestData.h5')\n",
    "xtestT = torch.from_numpy(np.array(file['xtest'],dtype=np.float32)).float()\n",
    "ytestT = torch.from_numpy(np.array(file['ytest'],dtype=np.float32)).float()\n",
    "#xtest = np.array(file['xtest'],dtype=np.float32)\n",
    "#ytest = np.array(file['ytest'],dtype=np.float32)"
   ]
  },
  {
   "cell_type": "code",
   "execution_count": 14,
   "metadata": {
    "scrolled": true
   },
   "outputs": [
    {
     "name": "stdout",
     "output_type": "stream",
     "text": [
      "torch.Size([2516, 3, 180, 320]) torch.Size([2516, 2])\n"
     ]
    }
   ],
   "source": [
    "print(xtestT.size(), ytestT.size())"
   ]
  },
  {
   "cell_type": "code",
   "execution_count": 77,
   "metadata": {},
   "outputs": [],
   "source": [
    "def batch_rgb_to_bgr(batch):\n",
    "    #print(batch.size())\n",
    "    (r, g, b) = torch.chunk(batch, 3, 1)\n",
    "    #print(r.size())\n",
    "    batch1 = torch.cat((b, g, r),1)\n",
    "    #print(batch1.size())\n",
    "    return batch1"
   ]
  },
  {
   "cell_type": "code",
   "execution_count": 78,
   "metadata": {},
   "outputs": [
    {
     "name": "stdout",
     "output_type": "stream",
     "text": [
      "torch.Size([11884, 3, 180, 320])\n",
      "torch.Size([11884, 1, 180, 320])\n",
      "torch.Size([11884, 3, 180, 320])\n",
      "torch.Size([11884, 3, 180, 320])\n"
     ]
    }
   ],
   "source": [
    "xtrainT = batch_rgb_to_bgr(xtrainT)\n",
    "print(xtrainT.size())"
   ]
  },
  {
   "cell_type": "code",
   "execution_count": 65,
   "metadata": {
    "collapsed": true
   },
   "outputs": [],
   "source": [
    "def batch_rgb_to_bgr(batch):\n",
    "    print(batch.shape)\n",
    "    batch = batch.transpose(1,0,2,3)\n",
    "    #print batch.shape\n",
    "    #batch1 = torch.from_numpy(batch).float()\n",
    "    #(r, g, b) = torch.chunk(batch1, 3)\n",
    "    r,g,b = np.split(batch,3,0)\n",
    "    print(r.shape)\n",
    "    #batch1 = torch.cat((b, g, r))\n",
    "    batch = np.concatenate((b,g,r),0)\n",
    "    print(batch.shape)\n",
    "    #batch = batch1.numpy()\n",
    "    batch = batch.transpose(1,0,2,3)\n",
    "    print(batch.shape)\n",
    "    return batch"
   ]
  },
  {
   "cell_type": "code",
   "execution_count": null,
   "metadata": {
    "collapsed": true
   },
   "outputs": [],
   "source": [
    "xtrain = batch_rgb_to_bgr(xtrain)\n",
    "xtest = batch_rgb_to_bgr(xtest)"
   ]
  },
  {
   "cell_type": "code",
   "execution_count": null,
   "metadata": {
    "collapsed": true
   },
   "outputs": [],
   "source": [
    "print(np.max(xtrain),np.max(ytrain))\n",
    "print(np.max(xtest),np.max(ytest))"
   ]
  },
  {
   "cell_type": "code",
   "execution_count": 14,
   "metadata": {
    "collapsed": true
   },
   "outputs": [],
   "source": [
    "xtrain /= 255.0\n",
    "xtest /= 255.0"
   ]
  },
  {
   "cell_type": "code",
   "execution_count": 15,
   "metadata": {
    "collapsed": true
   },
   "outputs": [],
   "source": [
    "xtrainT = torch.from_numpy(xtrain).float()\n",
    "ytrainT = torch.from_numpy(ytrain).float()\n",
    "xtestT = torch.from_numpy(xtest).float()\n",
    "ytestT = torch.from_numpy(ytest).float()"
   ]
  },
  {
   "cell_type": "code",
   "execution_count": 10,
   "metadata": {
    "collapsed": true
   },
   "outputs": [],
   "source": [
    "xtrainT = torch.div(xtrainT,255.0)\n",
    "xtestT = torch.div(xtestT,255.0)"
   ]
  },
  {
   "cell_type": "code",
   "execution_count": 11,
   "metadata": {},
   "outputs": [
    {
     "name": "stdout",
     "output_type": "stream",
     "text": [
      "0.0 1.0 0.0 1.0\n"
     ]
    }
   ],
   "source": [
    "print(torch.min(xtrainT), torch.max(xtrainT), torch.min(xtestT), torch.max(xtestT))"
   ]
  },
  {
   "cell_type": "code",
   "execution_count": 12,
   "metadata": {},
   "outputs": [
    {
     "name": "stdout",
     "output_type": "stream",
     "text": [
      "torch.Size([11884, 3, 180, 320]) torch.Size([11884, 2]) torch.Size([2516, 3, 180, 320]) torch.Size([2516, 2])\n"
     ]
    }
   ],
   "source": [
    "print(xtrainT.size(), ytrainT.size(), xtestT.size(), ytestT.size())"
   ]
  },
  {
   "cell_type": "code",
   "execution_count": 13,
   "metadata": {
    "collapsed": true
   },
   "outputs": [],
   "source": [
    "class Normalize(object):\n",
    "    \"\"\"\n",
    "    Normalize an tensor image with mean and standard deviation.\n",
    "    Given mean: (R, G, B) and std: (R, G, B),\n",
    "    will normalize each channel of the torch.*Tensor, i.e.\n",
    "    channel = (channel - mean) / std\n",
    "    Args:\n",
    "        mean (sequence): Sequence of means for R, G, B channels respecitvely.\n",
    "        std (sequence): Sequence of standard deviations for R, G, B channels\n",
    "            respecitvely.\n",
    "    \"\"\"\n",
    "\n",
    "    def __init__(self, mean, std):\n",
    "        self.mean = mean\n",
    "        self.std = std\n",
    "\n",
    "    def __call__(self, tensor):\n",
    "        \"\"\"\n",
    "        Args:\n",
    "            tensor (Tensor): Tensor image of size (C, H, W) to be normalized.\n",
    "        Returns:\n",
    "            Tensor: Normalized image.\n",
    "        \"\"\"\n",
    "        # TODO: make efficient\n",
    "        for t, m, s in zip(tensor, self.mean, self.std):\n",
    "            t.sub_(m).div_(s)\n",
    "        return tensor"
   ]
  },
  {
   "cell_type": "code",
   "execution_count": 12,
   "metadata": {
    "collapsed": true
   },
   "outputs": [],
   "source": [
    "mn1 = [0,0,0]\n",
    "sd1 = [255.0,255.0,255.0]\n",
    "norm1 = Normalize(mn1,sd1)\n",
    "xtrainT = norm1(xtrainT)\n",
    "xtestT = norm1(xtestT)"
   ]
  },
  {
   "cell_type": "code",
   "execution_count": 14,
   "metadata": {},
   "outputs": [
    {
     "name": "stdout",
     "output_type": "stream",
     "text": [
      "0.0 1.0 0.0 1.0\n"
     ]
    }
   ],
   "source": [
    "print(torch.min(xtrainT), torch.max(xtrainT), torch.min(xtestT), torch.max(xtestT))"
   ]
  },
  {
   "cell_type": "code",
   "execution_count": 15,
   "metadata": {
    "collapsed": true
   },
   "outputs": [],
   "source": [
    "#mn = [0.406,0.456,0.485]\n",
    "#sd = [0.225,0.224,0.229]\n",
    "mn = [0.485,0.456,0.406]\n",
    "sd = [0.229,0.224,0.225]\n",
    "norm = Normalize(mn,sd)\n",
    "xtrainT1 = norm(xtrainT)\n",
    "xtestT1 = norm(xtestT)"
   ]
  },
  {
   "cell_type": "code",
   "execution_count": 16,
   "metadata": {},
   "outputs": [
    {
     "name": "stdout",
     "output_type": "stream",
     "text": [
      "-2.1007792949676514 2.640000104904175 -2.0836544036865234 2.640000104904175\n"
     ]
    }
   ],
   "source": [
    "print(torch.min(xtrainT1), torch.max(xtrainT1), torch.min(xtestT1), torch.max(xtestT1))"
   ]
  },
  {
   "cell_type": "code",
   "execution_count": 17,
   "metadata": {
    "collapsed": true
   },
   "outputs": [],
   "source": [
    "##def train(model, loss, optimizer, x_val, y_val, validPixel, batch_sz):\n",
    "def train(model, loss, optimizer, x_val, y_val):\n",
    "    x = Variable(x_val,requires_grad = False).cuda()\n",
    "    y = Variable(y_val,requires_grad = False).cuda()\n",
    "    \n",
    "    optimizer.zero_grad()\n",
    "    \n",
    "    fx = model.forward(x)\n",
    "    \n",
    "    #print fx.data[0][0][64][87]\n",
    "    #fx = model5.forward(Variable(xtest2[start:end], volatile=True).cuda())\n",
    "    ##output = loss.forward(fx,y,validPixel,batch_sz)\n",
    "    output = loss.forward(fx,y)\n",
    "    #output = loss(fx, y)\n",
    "    output.backward()\n",
    "    \n",
    "    optimizer.step()\n",
    "    \n",
    "    return output.data[0]"
   ]
  },
  {
   "cell_type": "code",
   "execution_count": 18,
   "metadata": {
    "collapsed": true
   },
   "outputs": [],
   "source": [
    "#custom loss function.... this will be reverse Huber...\n",
    "\n",
    "class CustomLoss(nn.Module):\n",
    "    def __init__(self):\n",
    "        super(CustomLoss, self).__init__()\n",
    "        \n",
    "    def forward(self,inp, tar):\n",
    "        #target is the ground truth value...\n",
    "        #k = torch.mean(inp[:,0])\n",
    "        '''\n",
    "        if (k >= 1.48 and k <= 1.65):\n",
    "            diff = torch.abs(tar[:,1]-inp[:,1])\n",
    "            loss = torch.mean(torch.pow(diff,2))\n",
    "        else:\n",
    "        '''\n",
    "        diff = torch.abs(tar[:,0]-inp[:,0]) #*(180/np.pi)\n",
    "        loss = torch.mean(torch.pow(diff,2))\n",
    "        #print(loss)\n",
    "        return loss\n",
    "        '''\n",
    "        c1 = c.data[0] \n",
    "        temp = diff > c1\n",
    "        check1 = torch.prod(temp)\n",
    "        \n",
    "        if check1 == 0:\n",
    "            lossval = torch.mean(diff)\n",
    "        else:\n",
    "            temp4 = torch.pow(diff,2)\n",
    "            d = torch.pow(c,2)\n",
    "            temp4 = temp4.add(d.expand_as(temp4))\n",
    "            lossval = torch.mean(temp4/(2*c))\n",
    "        return lossval\n",
    "        '''"
   ]
  },
  {
   "cell_type": "code",
   "execution_count": 25,
   "metadata": {
    "scrolled": true
   },
   "outputs": [
    {
     "name": "stdout",
     "output_type": "stream",
     "text": [
      "save the weights\n",
      "Loss = 0.0022 at epoch 1 completed in 0m 7s\n",
      "Loss 0.0021930899587067876 is bigger than Loss 0.002179601295382374 in the prev epoch \n",
      "Loss = 0.0022 at epoch 2 completed in 0m 7s\n",
      "Loss 0.0022041428474958683 is bigger than Loss 0.002179601295382374 in the prev epoch \n",
      "Loss = 0.0022 at epoch 3 completed in 0m 6s\n",
      "Loss 0.002197947218139678 is bigger than Loss 0.002179601295382374 in the prev epoch \n",
      "Loss = 0.0022 at epoch 4 completed in 0m 7s\n",
      "Loss 0.002182470044761627 is bigger than Loss 0.002179601295382374 in the prev epoch \n",
      "Loss = 0.0022 at epoch 5 completed in 0m 7s\n",
      "Learning rate changed from 2e-05 to 4.000000000000001e-06\n",
      "Loss 0.002185477778846273 is bigger than Loss 0.002179601295382374 in the prev epoch \n",
      "Loss = 0.0022 at epoch 6 completed in 0m 7s\n",
      "save the weights\n",
      "Loss = 0.0021 at epoch 7 completed in 0m 6s\n",
      "save the weights\n",
      "Loss = 0.0021 at epoch 8 completed in 0m 7s\n",
      "save the weights\n",
      "Loss = 0.0021 at epoch 9 completed in 0m 6s\n",
      "save the weights\n",
      "Loss = 0.0021 at epoch 10 completed in 0m 6s\n",
      "save the weights\n",
      "Loss = 0.0021 at epoch 11 completed in 0m 7s\n",
      "Loss 0.0021297633332382233 is bigger than Loss 0.0021269617685326938 in the prev epoch \n",
      "Loss = 0.0021 at epoch 12 completed in 0m 7s\n",
      "save the weights\n",
      "Loss = 0.0021 at epoch 13 completed in 0m 7s\n",
      "Loss 0.002127020924468913 is bigger than Loss 0.002126038867058328 in the prev epoch \n",
      "Loss = 0.0021 at epoch 14 completed in 0m 6s\n",
      "save the weights\n",
      "Loss = 0.0021 at epoch 15 completed in 0m 7s\n",
      "Loss 0.0021259348944079617 is bigger than Loss 0.0021220347860233042 in the prev epoch \n",
      "Loss = 0.0021 at epoch 16 completed in 0m 6s\n",
      "save the weights\n",
      "Loss = 0.0021 at epoch 17 completed in 0m 6s\n",
      "Loss 0.002125268438689864 is bigger than Loss 0.0021176026220376958 in the prev epoch \n",
      "Loss = 0.0021 at epoch 18 completed in 0m 6s\n",
      "Loss 0.002123312517233908 is bigger than Loss 0.0021176026220376958 in the prev epoch \n",
      "Loss = 0.0021 at epoch 19 completed in 0m 6s\n",
      "Loss 0.0021228512062343064 is bigger than Loss 0.0021176026220376958 in the prev epoch \n",
      "Loss = 0.0021 at epoch 20 completed in 0m 6s\n",
      "Loss 0.0021200873898828275 is bigger than Loss 0.0021176026220376958 in the prev epoch \n",
      "Loss = 0.0021 at epoch 21 completed in 0m 6s\n",
      "Learning rate changed from 4.000000000000001e-06 to 8.000000000000002e-07\n",
      "Loss 0.0021193296969390027 is bigger than Loss 0.0021176026220376958 in the prev epoch \n",
      "Loss = 0.0021 at epoch 22 completed in 0m 6s\n",
      "save the weights\n",
      "Loss = 0.0021 at epoch 23 completed in 0m 6s\n",
      "Loss 0.002110238866202425 is bigger than Loss 0.00210905050511373 in the prev epoch \n",
      "Loss = 0.0021 at epoch 24 completed in 0m 6s\n",
      "Loss 0.0021104716268792964 is bigger than Loss 0.00210905050511373 in the prev epoch \n",
      "Loss = 0.0021 at epoch 25 completed in 0m 7s\n",
      "Loss 0.0021091693086155317 is bigger than Loss 0.00210905050511373 in the prev epoch \n",
      "Loss = 0.0021 at epoch 26 completed in 0m 7s\n",
      "save the weights\n",
      "Loss = 0.0021 at epoch 27 completed in 0m 7s\n",
      "save the weights\n",
      "Loss = 0.0021 at epoch 28 completed in 0m 6s\n",
      "Loss 0.0021088593353784657 is bigger than Loss 0.0021079205535508984 in the prev epoch \n",
      "Loss = 0.0021 at epoch 29 completed in 0m 6s\n",
      "Loss 0.002109114592483343 is bigger than Loss 0.0021079205535508984 in the prev epoch \n",
      "Loss = 0.0021 at epoch 30 completed in 0m 6s\n",
      "save the weights\n",
      "Loss = 0.0021 at epoch 31 completed in 0m 6s\n",
      "Loss 0.0021076162496812163 is bigger than Loss 0.002107450227713313 in the prev epoch \n",
      "Loss = 0.0021 at epoch 32 completed in 0m 6s\n",
      "Loss 0.0021083435372556063 is bigger than Loss 0.002107450227713313 in the prev epoch \n",
      "Loss = 0.0021 at epoch 33 completed in 0m 6s\n",
      "Loss 0.002108601438840349 is bigger than Loss 0.002107450227713313 in the prev epoch \n",
      "Loss = 0.0021 at epoch 34 completed in 0m 7s\n",
      "Loss 0.0021077608035074604 is bigger than Loss 0.002107450227713313 in the prev epoch \n",
      "Loss = 0.0021 at epoch 35 completed in 0m 6s\n",
      "Learning rate changed from 8.000000000000002e-07 to 1.6000000000000003e-07\n",
      "Loss 0.0021078782570618892 is bigger than Loss 0.002107450227713313 in the prev epoch \n",
      "Loss = 0.0021 at epoch 36 completed in 0m 7s\n",
      "save the weights\n",
      "Loss = 0.0021 at epoch 37 completed in 0m 7s\n",
      "save the weights\n",
      "Loss = 0.0021 at epoch 38 completed in 0m 7s\n",
      "Loss 0.0021054468370279517 is bigger than Loss 0.0021050873000656124 in the prev epoch \n",
      "Loss = 0.0021 at epoch 39 completed in 0m 6s\n",
      "save the weights\n",
      "Loss = 0.0021 at epoch 40 completed in 0m 6s\n",
      "Loss 0.0021053525728568696 is bigger than Loss 0.0021042353091432248 in the prev epoch \n",
      "Loss = 0.0021 at epoch 41 completed in 0m 7s\n",
      "Loss 0.0021043974484445584 is bigger than Loss 0.0021042353091432248 in the prev epoch \n",
      "Loss = 0.0021 at epoch 42 completed in 0m 7s\n",
      "Loss 0.0021053121539078962 is bigger than Loss 0.0021042353091432248 in the prev epoch \n",
      "Loss = 0.0021 at epoch 43 completed in 0m 7s\n",
      "Loss 0.0021054316686406767 is bigger than Loss 0.0021042353091432248 in the prev epoch \n",
      "Loss = 0.0021 at epoch 44 completed in 0m 6s\n",
      "Learning rate changed from 1.6000000000000003e-07 to 3.200000000000001e-08\n",
      "Loss 0.002105590404067756 is bigger than Loss 0.0021042353091432248 in the prev epoch \n",
      "Loss = 0.0021 at epoch 45 completed in 0m 7s\n",
      "Loss 0.00210505092243338 is bigger than Loss 0.0021042353091432248 in the prev epoch \n",
      "Loss = 0.0021 at epoch 46 completed in 0m 7s\n",
      "save the weights\n",
      "Loss = 0.0021 at epoch 47 completed in 0m 7s\n",
      "Loss 0.002104531797409524 is bigger than Loss 0.00210076231632526 in the prev epoch \n",
      "Loss = 0.0021 at epoch 48 completed in 0m 7s\n",
      "Loss 0.0021042998696215636 is bigger than Loss 0.00210076231632526 in the prev epoch \n",
      "Loss = 0.0021 at epoch 49 completed in 0m 6s\n",
      "Loss 0.0021048853976804076 is bigger than Loss 0.00210076231632526 in the prev epoch \n",
      "Loss = 0.0021 at epoch 50 completed in 0m 7s\n",
      "Loss 0.0021046458262172513 is bigger than Loss 0.00210076231632526 in the prev epoch \n",
      "Loss = 0.0021 at epoch 51 completed in 0m 7s\n",
      "Learning rate changed from 3.200000000000001e-08 to 6.400000000000002e-09\n",
      "Loss 0.002103953803960008 is bigger than Loss 0.00210076231632526 in the prev epoch \n",
      "Loss = 0.0021 at epoch 52 completed in 0m 7s\n",
      "Loss 0.002102799628259964 is bigger than Loss 0.00210076231632526 in the prev epoch \n",
      "Loss = 0.0021 at epoch 53 completed in 0m 7s\n",
      "Loss 0.002103618545569826 is bigger than Loss 0.00210076231632526 in the prev epoch \n",
      "Loss = 0.0021 at epoch 54 completed in 0m 6s\n",
      "Loss 0.0021047824503766127 is bigger than Loss 0.00210076231632526 in the prev epoch \n",
      "Loss = 0.0021 at epoch 55 completed in 0m 7s\n",
      "Loss 0.0021048379363884113 is bigger than Loss 0.00210076231632526 in the prev epoch \n",
      "Loss = 0.0021 at epoch 56 completed in 0m 7s\n",
      "Learning rate changed from 6.400000000000002e-09 to 1.2800000000000003e-09\n",
      "Loss 0.0021044766520203323 is bigger than Loss 0.00210076231632526 in the prev epoch \n",
      "Loss = 0.0021 at epoch 57 completed in 0m 7s\n",
      "Loss 0.0021035902067683375 is bigger than Loss 0.00210076231632526 in the prev epoch \n",
      "Loss = 0.0021 at epoch 58 completed in 0m 6s\n",
      "Loss 0.0021045227372009116 is bigger than Loss 0.00210076231632526 in the prev epoch \n",
      "Loss = 0.0021 at epoch 59 completed in 0m 7s\n",
      "Loss 0.002104485165135724 is bigger than Loss 0.00210076231632526 in the prev epoch \n",
      "Loss = 0.0021 at epoch 60 completed in 0m 7s\n",
      "Loss 0.0021039414530587045 is bigger than Loss 0.00210076231632526 in the prev epoch \n",
      "Loss = 0.0021 at epoch 61 completed in 0m 7s\n",
      "Learning rate changed from 1.2800000000000003e-09 to 2.5600000000000005e-10\n",
      "Loss 0.0021041095002416396 is bigger than Loss 0.00210076231632526 in the prev epoch \n",
      "Loss = 0.0021 at epoch 62 completed in 0m 7s\n",
      "Loss 0.002102319789487515 is bigger than Loss 0.00210076231632526 in the prev epoch \n",
      "Loss = 0.0021 at epoch 63 completed in 0m 7s\n",
      "Loss 0.0021046178177491375 is bigger than Loss 0.00210076231632526 in the prev epoch \n",
      "Loss = 0.0021 at epoch 64 completed in 0m 6s\n",
      "Loss 0.0021048613961336055 is bigger than Loss 0.00210076231632526 in the prev epoch \n",
      "Loss = 0.0021 at epoch 65 completed in 0m 6s\n",
      "Loss 0.002104810387016077 is bigger than Loss 0.00210076231632526 in the prev epoch \n",
      "Loss = 0.0021 at epoch 66 completed in 0m 6s\n",
      "Learning rate changed from 2.5600000000000005e-10 to 5.120000000000001e-11\n",
      "Loss 0.0021043456841953203 is bigger than Loss 0.00210076231632526 in the prev epoch \n",
      "Loss = 0.0021 at epoch 67 completed in 0m 6s\n"
     ]
    },
    {
     "name": "stdout",
     "output_type": "stream",
     "text": [
      "Loss 0.00210426734981475 is bigger than Loss 0.00210076231632526 in the prev epoch \n",
      "Loss = 0.0021 at epoch 68 completed in 0m 7s\n",
      "Loss 0.002104513946864189 is bigger than Loss 0.00210076231632526 in the prev epoch \n",
      "Loss = 0.0021 at epoch 69 completed in 0m 6s\n",
      "Loss 0.0021042499876650126 is bigger than Loss 0.00210076231632526 in the prev epoch \n",
      "Loss = 0.0021 at epoch 70 completed in 0m 7s\n",
      "Loss 0.002104910771320932 is bigger than Loss 0.00210076231632526 in the prev epoch \n",
      "Loss = 0.0021 at epoch 71 completed in 0m 6s\n",
      "Learning rate changed from 5.120000000000001e-11 to 1.0240000000000002e-11\n",
      "Loss 0.0021042518634411824 is bigger than Loss 0.00210076231632526 in the prev epoch \n",
      "Loss = 0.0021 at epoch 72 completed in 0m 7s\n",
      "Loss 0.0021042052545876357 is bigger than Loss 0.00210076231632526 in the prev epoch \n",
      "Loss = 0.0021 at epoch 73 completed in 0m 7s\n",
      "Loss 0.002104770590124736 is bigger than Loss 0.00210076231632526 in the prev epoch \n",
      "Loss = 0.0021 at epoch 74 completed in 0m 7s\n",
      "Loss 0.0021044430946178644 is bigger than Loss 0.00210076231632526 in the prev epoch \n",
      "Loss = 0.0021 at epoch 75 completed in 0m 7s\n",
      "Loss 0.0021044820093789646 is bigger than Loss 0.00210076231632526 in the prev epoch \n",
      "Loss = 0.0021 at epoch 76 completed in 0m 7s\n",
      "Learning rate changed from 1.0240000000000002e-11 to 2.048e-12\n",
      "Loss 0.002104068734692507 is bigger than Loss 0.00210076231632526 in the prev epoch \n",
      "Loss = 0.0021 at epoch 77 completed in 0m 7s\n",
      "Loss 0.0021046388636402785 is bigger than Loss 0.00210076231632526 in the prev epoch \n",
      "Loss = 0.0021 at epoch 78 completed in 0m 7s\n",
      "Loss 0.002102228351131785 is bigger than Loss 0.00210076231632526 in the prev epoch \n",
      "Loss = 0.0021 at epoch 79 completed in 0m 7s\n",
      "Loss 0.0021046323334070736 is bigger than Loss 0.00210076231632526 in the prev epoch \n",
      "Loss = 0.0021 at epoch 80 completed in 0m 7s\n",
      "Loss 0.0021047804559312833 is bigger than Loss 0.00210076231632526 in the prev epoch \n",
      "Loss = 0.0021 at epoch 81 completed in 0m 6s\n",
      "Learning rate changed from 2.048e-12 to 4.0960000000000004e-13\n",
      "Loss 0.0021037443720120994 is bigger than Loss 0.00210076231632526 in the prev epoch \n",
      "Loss = 0.0021 at epoch 82 completed in 0m 7s\n",
      "Loss 0.0021046565940465623 is bigger than Loss 0.00210076231632526 in the prev epoch \n",
      "Loss = 0.0021 at epoch 83 completed in 0m 7s\n",
      "Loss 0.0021043281017580017 is bigger than Loss 0.00210076231632526 in the prev epoch \n",
      "Loss = 0.0021 at epoch 84 completed in 0m 7s\n",
      "Loss 0.002104711068038801 is bigger than Loss 0.00210076231632526 in the prev epoch \n",
      "Loss = 0.0021 at epoch 85 completed in 0m 6s\n",
      "Loss 0.0021046427477767354 is bigger than Loss 0.00210076231632526 in the prev epoch \n",
      "Loss = 0.0021 at epoch 86 completed in 0m 7s\n",
      "Learning rate changed from 4.0960000000000004e-13 to 8.192e-14\n",
      "Loss 0.0021036010875832294 is bigger than Loss 0.00210076231632526 in the prev epoch \n",
      "Loss = 0.0021 at epoch 87 completed in 0m 7s\n",
      "Loss 0.002104602980822156 is bigger than Loss 0.00210076231632526 in the prev epoch \n",
      "Loss = 0.0021 at epoch 88 completed in 0m 7s\n",
      "Loss 0.002104748141762144 is bigger than Loss 0.00210076231632526 in the prev epoch \n",
      "Loss = 0.0021 at epoch 89 completed in 0m 7s\n",
      "Loss 0.002104864598534887 is bigger than Loss 0.00210076231632526 in the prev epoch \n",
      "Loss = 0.0021 at epoch 90 completed in 0m 7s\n",
      "Loss 0.0021045145684318537 is bigger than Loss 0.00210076231632526 in the prev epoch \n",
      "Loss = 0.0021 at epoch 91 completed in 0m 7s\n",
      "Learning rate changed from 8.192e-14 to 1.6384e-14\n",
      "Loss 0.0021033176495431 is bigger than Loss 0.00210076231632526 in the prev epoch \n",
      "Loss = 0.0021 at epoch 92 completed in 0m 7s\n",
      "Loss 0.0021040818435673044 is bigger than Loss 0.00210076231632526 in the prev epoch \n",
      "Loss = 0.0021 at epoch 93 completed in 0m 7s\n",
      "Loss 0.0021041647245149484 is bigger than Loss 0.00210076231632526 in the prev epoch \n",
      "Loss = 0.0021 at epoch 94 completed in 0m 7s\n",
      "Loss 0.0021047203980702994 is bigger than Loss 0.00210076231632526 in the prev epoch \n",
      "Loss = 0.0021 at epoch 95 completed in 0m 7s\n",
      "Loss 0.0021039769088736543 is bigger than Loss 0.00210076231632526 in the prev epoch \n",
      "Loss = 0.0021 at epoch 96 completed in 0m 6s\n",
      "Learning rate changed from 1.6384e-14 to 3.2768000000000003e-15\n",
      "Loss 0.0021047080699033004 is bigger than Loss 0.00210076231632526 in the prev epoch \n",
      "Loss = 0.0021 at epoch 97 completed in 0m 7s\n",
      "Loss 0.0021048230898581444 is bigger than Loss 0.00210076231632526 in the prev epoch \n",
      "Loss = 0.0021 at epoch 98 completed in 0m 7s\n",
      "Loss 0.0021033747266132937 is bigger than Loss 0.00210076231632526 in the prev epoch \n",
      "Loss = 0.0021 at epoch 99 completed in 0m 7s\n",
      "Loss 0.0021040399171967025 is bigger than Loss 0.00210076231632526 in the prev epoch \n",
      "Loss = 0.0021 at epoch 100 completed in 0m 7s\n"
     ]
    }
   ],
   "source": [
    "#MUST UNCOMMENT BELOW LINE...\n",
    "    \n",
    "net = net.cuda()\n",
    "\n",
    "#loading the model after the weights of epoch50.. to check what loss the model gives if lr is taken as 0.0001\n",
    "optimizer = optim.SGD(net.parameters(), lr=2e-05, momentum=0.9)\n",
    "\n",
    "#criterion = RMSELoss()\n",
    "#criterion = BerhuLoss()\n",
    "#criterion = EuclideanLoss()\n",
    "#criterion = nn.MSELoss()\n",
    "#criterion = CosineLoss()\n",
    "#criterion = torch.nn.MSELoss(size_average=False)\n",
    "criterion = CustomLoss()\n",
    "criterion.cuda()\n",
    "\n",
    "currepochloss = float('Inf')\n",
    "#epochs, n_examples, i, batch_size, flag = 1,5900, 0, 5, 0\n",
    "epochs, n_examples, i, batch_size, flag = 100, 11884, 0, 20, 0\n",
    "\n",
    "\n",
    "while i != epochs:\n",
    "    since = time.time()\n",
    "    cost, batchloss = 0.0, 0.0\n",
    "    num_batches = n_examples//batch_size\n",
    "    #print num_batches    #indices = np.random.permutation(5600)\n",
    "    #indices = np.random.permutation(3524)\n",
    "    \n",
    "    #indices = np.random.permutation(5900)\n",
    "    indices = np.random.permutation(n_examples)\n",
    "    samplesUnprocessed = np.size(indices)\n",
    "    \n",
    "    #batchwise training starts here...\n",
    "    for k in range(num_batches):\n",
    "        since1 = time.time()\n",
    "       # print(\"bacth number:\"+str(k))\n",
    "        xtrain3 = torch.FloatTensor(batch_size,3,180,320)\n",
    "        ytrain3 = torch.FloatTensor(batch_size,2)\n",
    "        ##validPixel = torch.FloatTensor(batch_size,480,640)\n",
    "        \n",
    "        for ind in range(batch_size):\n",
    "            #ind1 = np.random.randint(0,5599)\n",
    "            ind1 = np.random.randint(0,samplesUnprocessed)\n",
    "            #ind1 = np.random.randint(0,794)\n",
    "            #ind1 = np.random.randint(0,794)            \n",
    "            newxind = indices[ind1]            \n",
    "            xtrain3[ind] = xtrainT1[newxind]\n",
    "            ytrain3[ind] = ytrainT[newxind]\n",
    "            ##validPixel[ind] = imgValidTrain2[newxind]\n",
    "            \n",
    "            #print ytrain3[ind,0,0,0], ytrain2[newxind,0,0,0]\n",
    "            indices = np.delete(indices,ind1)\n",
    "            samplesUnprocessed = samplesUnprocessed - 1\n",
    "        \n",
    "        #start, end = k*batch_size, (k+1)*batch_size\n",
    "        #batchloss = train(model5,criterion, optimizer, xtrain3, ytrain3, validPixel,batch_size)\n",
    "        batchloss = train(net,criterion, optimizer, xtrain3, ytrain3)\n",
    "        batch_time = time.time() - since1\n",
    "        #cost += batchloss\n",
    "        cost = (cost*k+batchloss)/(k+1)\n",
    "        #print k,cost\n",
    "        #print(\"No. of samples UnProcessed \"+str(samplesUnprocessed))\n",
    "        \n",
    "    time_elapsed = time.time() - since\n",
    "    epochloss = cost #/num_batches\n",
    "    \n",
    "    if epochloss < currepochloss:\n",
    "        print('save the weights')\n",
    "        torch.save(net.state_dict(),\"./weights/corridor_new_data.pth\")\n",
    "        flag = 0\n",
    "        currepochloss = epochloss\n",
    "    else:\n",
    "        flag += 1\n",
    "        \n",
    "        if flag == 5:\n",
    "            for p in optimizer.param_groups:\n",
    "                lr2 = p['lr']\n",
    "            newlr = lr2/5\n",
    "            \n",
    "            if newlr < 1e-15:\n",
    "                print(\"Cant decrease further!!\")\n",
    "                newlr = 1e-15\n",
    "            flag = 0 \n",
    "            optimizer = optim.SGD(net.parameters(), lr=newlr, momentum=0.9)\n",
    "            print(\"Learning rate changed from \"+str(lr2)+\" to \"+str(newlr))\n",
    "            \n",
    "        print(\"Loss \"+str(epochloss)+\" is bigger than Loss \"+str(currepochloss)+\" in the prev epoch \")\n",
    "        \n",
    "    print('Loss = {:.4f} at epoch {:d} completed in {:.0f}m {:.0f}s'.format(epochloss,(i+1),(time_elapsed//60),(time_elapsed%60)))\n",
    "    i += 1 "
   ]
  },
  {
   "cell_type": "code",
   "execution_count": 26,
   "metadata": {},
   "outputs": [
    {
     "name": "stdout",
     "output_type": "stream",
     "text": [
      "3.2768000000000003e-15\n"
     ]
    }
   ],
   "source": [
    "for params in optimizer.param_groups:\n",
    "    print(params['lr'])"
   ]
  },
  {
   "cell_type": "code",
   "execution_count": 27,
   "metadata": {},
   "outputs": [
    {
     "name": "stdout",
     "output_type": "stream",
     "text": [
      "finalpred size is --->  torch.Size([2516, 1])\n",
      "num of batches ---> 629\n"
     ]
    }
   ],
   "source": [
    "#testing of the architecture...\n",
    "num_batches = 0\n",
    "#6 evenly divides the test batch size..\n",
    "test_batch_size = 4\n",
    "n_examples = 2516\n",
    "#finalpred = Variable(torch.zeros((n_examples,3,120,160)))\n",
    "finalpred = Variable(torch.zeros((n_examples,1)))\n",
    "print(\"finalpred size is ---> \", finalpred.size())\n",
    "\n",
    "num_batches = n_examples//test_batch_size\n",
    "print(\"num of batches --->\", num_batches)\n",
    "for k in range(num_batches):\n",
    "    start, end = k*test_batch_size, (k+1)*test_batch_size\n",
    "    output = net.forward(Variable(xtestT1[start:end], volatile=True).cuda())\n",
    "    finalpred[start:end] = output"
   ]
  },
  {
   "cell_type": "code",
   "execution_count": 28,
   "metadata": {},
   "outputs": [
    {
     "name": "stdout",
     "output_type": "stream",
     "text": [
      "(2516, 1)\n"
     ]
    }
   ],
   "source": [
    "data1 = finalpred.data.numpy()\n",
    "print(data1.shape)"
   ]
  },
  {
   "cell_type": "code",
   "execution_count": 33,
   "metadata": {},
   "outputs": [
    {
     "name": "stdout",
     "output_type": "stream",
     "text": [
      "torch.Size([2516])\n",
      "0.0038346970021929366\n"
     ]
    }
   ],
   "source": [
    "dif = torch.abs(finalpred.data[:,0]-ytestT[:,0])\n",
    "print(dif.size())\n",
    "np.savetxt(\"diff.csv\", dif.numpy(), delimiter=\",\")\n",
    "los = torch.mean(torch.pow(dif,2))\n",
    "\n",
    "print(los)"
   ]
  },
  {
   "cell_type": "code",
   "execution_count": 34,
   "metadata": {},
   "outputs": [
    {
     "name": "stdout",
     "output_type": "stream",
     "text": [
      "1.5300767421722412\n",
      "1.5707963705062866\n"
     ]
    }
   ],
   "source": [
    "print(finalpred.data[45,0])\n",
    "print(ytestT[45,0])"
   ]
  },
  {
   "cell_type": "code",
   "execution_count": 35,
   "metadata": {
    "scrolled": true
   },
   "outputs": [
    {
     "name": "stdout",
     "output_type": "stream",
     "text": [
      "\n",
      " 1.5909\n",
      " 1.5909\n",
      " 1.5909\n",
      "   ⋮   \n",
      " 2.2649\n",
      " 0.8767\n",
      " 2.2649\n",
      "[torch.FloatTensor of size 2516]\n",
      "\n",
      "torch.Size([2516])\n"
     ]
    }
   ],
   "source": [
    "#print(ytestT[:,0]*(180/np.pi))\n",
    "print(ytestT[:,0])\n",
    "a = ytestT[:,0]*(180/np.pi)\n",
    "print(a.size())\n",
    "np.savetxt(\"test.csv\", a.numpy(), delimiter=\",\")"
   ]
  },
  {
   "cell_type": "code",
   "execution_count": 42,
   "metadata": {
    "collapsed": true
   },
   "outputs": [],
   "source": [
    "a = np.asarray([ [1,2,3], [4,5,6], [7,8,9] ])\n",
    "np.savetxt(\"foo.csv\", a, delimiter=\",\")"
   ]
  },
  {
   "cell_type": "code",
   "execution_count": 36,
   "metadata": {},
   "outputs": [
    {
     "name": "stdout",
     "output_type": "stream",
     "text": [
      "\n",
      " 1.4396\n",
      " 1.4556\n",
      " 1.5486\n",
      "   ⋮   \n",
      " 2.1554\n",
      " 0.9636\n",
      " 2.3645\n",
      "[torch.FloatTensor of size 2516]\n",
      "\n"
     ]
    }
   ],
   "source": [
    "#print(finalpred.data[:,0]*(180/np.pi))\n",
    "print(finalpred.data[:,0])\n",
    "b = finalpred.data[:,0]*(180/np.pi)\n",
    "np.savetxt(\"pred.csv\", b.numpy(), delimiter=\",\")"
   ]
  },
  {
   "cell_type": "code",
   "execution_count": 69,
   "metadata": {},
   "outputs": [
    {
     "name": "stdout",
     "output_type": "stream",
     "text": [
      "(442, 660, 3)\n",
      "(1, 3, 180, 320)\n",
      "(1, 1, 180, 320)\n",
      "(3, 1, 180, 320)\n",
      "(1, 3, 180, 320)\n",
      "Variable containing:\n",
      " 152.9940\n",
      "[torch.cuda.FloatTensor of size 1 (GPU 0)]\n",
      "\n"
     ]
    },
    {
     "data": {
      "image/png": "[encoded data removed]",
      "text/plain": [
       "<matplotlib.figure.Figure at 0x7f52e020e6a0>"
      ]
     },
     "metadata": {},
     "output_type": "display_data"
    }
   ],
   "source": [
    "import scipy\n",
    "from scipy.misc import imresize, imread, imshow\n",
    "plt.rcParams['image.cmap'] = 'gray'\n",
    "plt.rcParams['image.interpolation'] = 'none'\n",
    "%matplotlib inline\n",
    "\n",
    "fig = plt.figure()\n",
    "fig.set_figheight(9)\n",
    "fig.set_figwidth(9)\n",
    "import cv2\n",
    "test = cv2.imread(\"./Test_Net_image/3.JPG\")\n",
    "print(test.shape)\n",
    "test = imresize(test,(180,320,3))\n",
    "#imshow(test)\n",
    "test = test.transpose(2,0,1)\n",
    "test = np.reshape(test,(1,3,180,320))\n",
    "testx = batch_rgb_to_bgr(test)\n",
    "test = test.astype(np.float32)\n",
    "test1 = torch.from_numpy(test).float()\n",
    "test1 = torch.div(test1,255.0)\n",
    "mean1 = [0.485,0.456,0.406]\n",
    "std1 = [0.229,0.224,0.225]\n",
    "norm = Normalize(mean1,std1)\n",
    "test1 = norm(test1)\n",
    "test_pred = net.forward(Variable(test1, volatile=True).cuda())\n",
    "print(test_pred[:,0]*(180/np.pi))\n",
    "testx = np.reshape(testx,(3,180,320))\n",
    "testx = testx.transpose(1,2,0)\n",
    "testx = imresize(testx,(180,320,3))\n",
    "#imshow(testx)\n",
    "scipy.misc.imsave('test.png', testx)\n",
    "a=fig.add_subplot(1,2,1)\n",
    "imgplot = plt.imshow(testx)\n",
    "a.set_title('Input')\n",
    "a.axes.get_xaxis().set_visible(False)\n",
    "a.axes.get_yaxis().set_visible(False)"
   ]
  }
 ],
 "metadata": {
  "kernelspec": {
   "display_name": "Python 3",
   "language": "python",
   "name": "python3"
  },
  "language_info": {
   "codemirror_mode": {
    "name": "ipython",
    "version": 3
   },
   "file_extension": ".py",
   "mimetype": "text/x-python",
   "name": "python",
   "nbconvert_exporter": "python",
   "pygments_lexer": "ipython3",
   "version": "3.6.1"
  }
 },
 "nbformat": 4,
 "nbformat_minor": 2
}
