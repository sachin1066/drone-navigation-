{
 "cells": [
  {
   "cell_type": "code",
   "execution_count": null,
   "metadata": {},
   "outputs": [],
   "source": [
    "import h5py\n",
    "import re\n",
    "#import hickle as hkl\n",
    "import torch\n",
    "import torch.nn as nn\n",
    "from torch.legacy.nn import Reshape\n",
    "import graphviz\n",
    "import torch.nn.functional as F\n",
    "from torch.autograd import Variable\n",
    "#from visualize import make_dot\n",
    "import torch.optim as optim\n",
    "import torchvision.models as models\n",
    "import torchvision.transforms as transforms\n",
    "import torch.utils.data as utils\n",
    "import numpy as np\n",
    "import matplotlib.pyplot as plt\n",
    "from scipy.misc import imresize, imread, imshow\n",
    "import time\n",
    "import logging\n",
    "from math import log,sqrt"
   ]
  },
  {
   "cell_type": "code",
   "execution_count": null,
   "metadata": {},
   "outputs": [],
   "source": [
    "incep_v3 = models.inception_v3()\n"
   ]
  },
  {
   "cell_type": "code",
   "execution_count": null,
   "metadata": {},
   "outputs": [],
   "source": [
    "print(incep_v3)\n"
   ]
  },
  {
   "cell_type": "code",
   "execution_count": null,
   "metadata": {
    "scrolled": true
   },
   "outputs": [],
   "source": [
    "# #incep_v3.Mixed_5b\n",
    "# #list(incep_v3.AuxLogits.children())[:-1]\n",
    "#############\n",
    "# incep_v3.AuxLogits= nn.Sequential(*list(incep_v3.AuxLogits.children())[:-1])\n",
    "#################\n",
    "# # incep_v3= nn.Sequential(*list(incep_v3.children())[:-1])\n",
    "# # incep_v3\n",
    "# # incep_v3.training = True\n",
    "# # incep_v3.aux_logits= True]\n",
    "#vgg_16 = nn.Sequential(*list(vgg_16.children())[:-1])\n",
    "#mod = nn.Sequential(*list(incep_v3.AuxLogits.children())[:-1])"
   ]
  },
  {
   "cell_type": "code",
   "execution_count": null,
   "metadata": {},
   "outputs": [],
   "source": [
    "#incep_v3.AuxLogits\n",
    "list(incep_v3.children())[14:17]\n",
    "\n",
    "#list(incep_v3.children())[0:3]"
   ]
  },
  {
   "cell_type": "code",
   "execution_count": null,
   "metadata": {},
   "outputs": [],
   "source": [
    "def InitializeWeights(mod):\n",
    "    for m in mod.modules():\n",
    "        if isinstance(m,nn.Conv2d):\n",
    "            n = m.kernel_size[0] * m.kernel_size[1] * m.out_channels\n",
    "            #print m.weight.size(), m.out_channels, m.in_channels\n",
    "            m.weight.data.normal_(0,sqrt(2./n))\n",
    "        elif isinstance(m, nn.BatchNorm2d):\n",
    "            m.weight.data.fill_(1)\n",
    "            m.bias.data.zero_()\n",
    "        elif isinstance(m, nn.Linear):\n",
    "            m.bias.data.zero_()\n",
    "    return mod"
   ]
  },
  {
   "cell_type": "code",
   "execution_count": null,
   "metadata": {},
   "outputs": [],
   "source": [
    "conv1_l = nn.Sequential(nn.BatchNorm2d(2048),nn.ReLU(),nn.Conv2d(2048,1024,1))\n",
    "conv1_l = InitializeWeights(conv1_l)\n",
    "conv2_l = nn.Sequential(nn.BatchNorm2d(1024),nn.ReLU(),nn.Conv2d(1024,512,(2,2),(1,2)))\n",
    "conv2_l = InitializeWeights(conv2_l)\n",
    "conv3_l = nn.Sequential(nn.BatchNorm2d(512),nn.ReLU(),nn.Conv2d(512,128,(3,3)))\n",
    "conv3_l = InitializeWeights(conv3_l)\n",
    "norm1_l = nn.BatchNorm2d(128)\n",
    "norm1_l = InitializeWeights(norm1_l)\n",
    "fc1_l = nn.Sequential(nn.Linear(256, 1))\n",
    "fc1_l = InitializeWeights(fc1_l)\n",
    "#############__________Aux_____________#############\n",
    "conv1_aux = nn.Sequential(nn.BatchNorm2d(768),nn.ReLU(),nn.Conv2d(768,128,4,(1,2),(1,0)))\n",
    "conv1_aux = InitializeWeights(conv1_aux)\n",
    "conv2_aux = nn.Sequential(nn.BatchNorm2d(128),nn.ReLU(),nn.Conv2d(128,32,(1,2)))\n",
    "conv2_aux = InitializeWeights(conv2_aux)\n",
    "norm1_aux = nn.BatchNorm2d(32)\n",
    "norm1_aux = InitializeWeights(norm1_aux)\n",
    "fc1_aux = nn.Sequential(nn.Linear(640, 1))\n",
    "fc1_aux = InitializeWeights(fc1_aux)\n"
   ]
  },
  {
   "cell_type": "code",
   "execution_count": null,
   "metadata": {},
   "outputs": [],
   "source": [
    "class IV3_git(nn.Module):\n",
    "    def __init__(self, pretrained_model):\n",
    "        super(IV3_git, self).__init__()\n",
    "        self.layer0_2 = nn.Sequential(*list(incep_v3.children())[0:3])#[0,1,2]\n",
    "        self.layer3_4 =  nn.Sequential(*list(incep_v3.children())[3:5])#[3,4]\n",
    "        self.layer5_12 =  nn.Sequential(*list(incep_v3.children())[5:13])#[5,12]\n",
    "        self.layer14_16 =  nn.Sequential(*list(incep_v3.children())[14:17])#[14,6]\n",
    "        ############\n",
    "        self.aauxLogits = nn.Sequential(*list(incep_v3.AuxLogits.children())[:-1])\n",
    "        #######################\n",
    "        self.conv1_l = conv1_l\n",
    "        self.conv2_l = conv2_l\n",
    "        self.conv3_l = conv3_l\n",
    "        self.norm1_l = norm1_l\n",
    "        self.fc1_l = fc1_l\n",
    "        ########################   \n",
    "        self.conv1_aux = conv1_aux\n",
    "        self.conv2_aux = conv2_aux\n",
    "        #self.conv3_aux = conv3_aux\n",
    "        self.norm1_aux = norm1_aux\n",
    "        self.fc1_aux= fc1_aux\n",
    "        \n",
    "        \n",
    "            \n",
    "    def num_flat_features(self, x):\n",
    "        size = x.size()[1:]  # all dimensions except the batch dimension\n",
    "        num_features = 1\n",
    "        for s in size:\n",
    "            num_features *= s\n",
    "        return num_features        \n",
    "            \n",
    "    def forward(self, x):\n",
    "        y1 = self.layer0_2(x)\n",
    "        y1 = F.max_pool2d(y1, kernel_size=3, stride=2)\n",
    "        y1 = self.layer3_4(y1)\n",
    "        y1 = F.max_pool2d(y1, kernel_size=3, stride=2)\n",
    "        y1 = self.layer5_12(y1)\n",
    "        #################\n",
    "        #if self.aux_logits:\n",
    "        aux = self.aauxLogits(y1)\n",
    "        aux = self.conv1_aux(aux)\n",
    "        aux = self.conv2_aux(aux)\n",
    "        #aux = self.conv3_aux(aux)\n",
    "        aux = self.norm1_aux(aux)\n",
    "        aux = aux.view(-1, self.num_flat_features(aux))\n",
    "        aux = self.fc1_aux(aux)\n",
    "        ##################\n",
    "        y1 = self.layer14_16(y1)\n",
    "        #y1 = F.avg_pool2d(y1, kernel_size=8)\n",
    "        y1 = F.dropout(y1)\n",
    "        y1 = self.conv1_l(y1)\n",
    "        y1 = self.conv2_l(y1)\n",
    "        y1 = self.conv3_l(y1)\n",
    "        y1 = self.norm1_l(y1)\n",
    "        y1 = y1.view(-1, self.num_flat_features(y1))\n",
    "        y1= self.fc1_l(y1)\n",
    "        ##################\n",
    "        \n",
    "        return aux,y1\n"
   ]
  },
  {
   "cell_type": "code",
   "execution_count": null,
   "metadata": {},
   "outputs": [],
   "source": [
    "incep_net = IV3_git(incep_v3)\n"
   ]
  },
  {
   "cell_type": "code",
   "execution_count": null,
   "metadata": {},
   "outputs": [],
   "source": [
    "print(incep_net)"
   ]
  },
  {
   "cell_type": "code",
   "execution_count": null,
   "metadata": {},
   "outputs": [],
   "source": [
    "input1=Variable(torch.Tensor(30,3,180,320))\n",
    "tic=time.time()\n",
    "aux,incep=incep_net(input1)\n",
    "tac=time.time()\n",
    "print(\"aux\\t \"+str(aux.size()))\n",
    "print(\"incep\\t \"+str(incep.size()))\n",
    "print(tac-tic)"
   ]
  },
  {
   "cell_type": "code",
   "execution_count": null,
   "metadata": {},
   "outputs": [],
   "source": [
    "[1,2]"
   ]
  },
  {
   "cell_type": "code",
   "execution_count": null,
   "metadata": {},
   "outputs": [],
   "source": [
    "sum1 = 0\n",
    "        \n",
    "print(\"Number of layers ---> \",len(list(net.parameters())))\n",
    "for params in net.parameters():\n",
    "    if params.requires_grad == True:\n",
    "        sum1 += params.numel()\n",
    "    \n",
    "print(\"Total number of parameters ---> \",sum1)"
   ]
  },
  {
   "cell_type": "code",
   "execution_count": null,
   "metadata": {},
   "outputs": [],
   "source": []
  }
 ],
 "metadata": {
  "kernelspec": {
   "display_name": "Python 3",
   "language": "python",
   "name": "python3"
  },
  "language_info": {
   "codemirror_mode": {
    "name": "ipython",
    "version": 3
   },
   "file_extension": ".py",
   "mimetype": "text/x-python",
   "name": "python",
   "nbconvert_exporter": "python",
   "pygments_lexer": "ipython3",
   "version": "3.6.4"
  }
 },
 "nbformat": 4,
 "nbformat_minor": 2
}
